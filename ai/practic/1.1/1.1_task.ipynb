{
  "cells": [
    {
      "cell_type": "markdown",
      "metadata": {
        "id": "view-in-github",
        "colab_type": "text"
      },
      "source": [
        "<a href=\"https://colab.research.google.com/github/AleksandrMac/learning/blob/main/ai/practic/1.1/1.1_task.ipynb\" target=\"_parent\"><img src=\"https://colab.research.google.com/assets/colab-badge.svg\" alt=\"Open In Colab\"/></a>"
      ]
    },
    {
      "cell_type": "markdown",
      "metadata": {
        "id": "Rdzq7XCJZR6J"
      },
      "source": [
        "# Задача 1. Обнаружение фальшивых новостей\n",
        "\n",
        "**Фальшивые новости** — это ложная информация, распространяемая через социальные сети и другие сетевые СМИ для достижения политических или идеологических целей.\n",
        "\n",
        "**Твоя  задача** -  используя библиотеку *sklearn* построить модель классического машинного обучения, которая может с высокой точностью более 90% определять, является ли новость реальной (***REAL***） или фальшивой（***FAKE***).\n",
        "\n",
        "Ты должен самостоятельно изучить и применить к задаче <code>TfidfVectorizer</code> для извлечения признаков из текстовых данных и <code>PassiveAggressiveClassifier</code>.\n",
        "\n",
        "Ты  можешь использовать [данный датасет](https://storage.yandexcloud.net/academy.ai/practica/fake_news.csv) для обучения.\n",
        "\n",
        "- **Построй** матрицу ошибок (confusion matrix).\n",
        "- **Представь**, что ваш заказчик очень любит графики и диаграммы.\n",
        "- **Визуализируй** для него результаты там, где это возможно."
      ]
    },
    {
      "cell_type": "code",
      "source": [
        "import pandas as pd"
      ],
      "metadata": {
        "id": "DvQ74fqqaWDP"
      },
      "execution_count": 2,
      "outputs": []
    },
    {
      "cell_type": "code",
      "source": [
        "# Загрузка данных по URL\n",
        "url = \"https://storage.yandexcloud.net/academy.ai/practica/fake_news.csv\"\n",
        "df = pd.read_csv(url)\n",
        "\n",
        "# Просмотр первых строк\n",
        "print(df.head())"
      ],
      "metadata": {
        "id": "VXSavHpqaR0z",
        "outputId": "4fe56428-42f1-4b01-e17e-bf74c8f85f96",
        "colab": {
          "base_uri": "https://localhost:8080/"
        }
      },
      "execution_count": 3,
      "outputs": [
        {
          "output_type": "stream",
          "name": "stdout",
          "text": [
            "   Unnamed: 0                                              title  \\\n",
            "0        8476                       You Can Smell Hillary’s Fear   \n",
            "1       10294  Watch The Exact Moment Paul Ryan Committed Pol...   \n",
            "2        3608        Kerry to go to Paris in gesture of sympathy   \n",
            "3       10142  Bernie supporters on Twitter erupt in anger ag...   \n",
            "4         875   The Battle of New York: Why This Primary Matters   \n",
            "\n",
            "                                                text label  \n",
            "0  Daniel Greenfield, a Shillman Journalism Fello...  FAKE  \n",
            "1  Google Pinterest Digg Linkedin Reddit Stumbleu...  FAKE  \n",
            "2  U.S. Secretary of State John F. Kerry said Mon...  REAL  \n",
            "3  — Kaydee King (@KaydeeKing) November 9, 2016 T...  FAKE  \n",
            "4  It's primary day in New York and front-runners...  REAL  \n"
          ]
        }
      ]
    },
    {
      "cell_type": "code",
      "source": [],
      "metadata": {
        "id": "aOPuwyLxaRqk"
      },
      "execution_count": null,
      "outputs": []
    }
  ],
  "metadata": {
    "colab": {
      "provenance": [],
      "include_colab_link": true
    },
    "kernelspec": {
      "display_name": ".tf-gpu.3.13",
      "language": "python",
      "name": "python3"
    },
    "language_info": {
      "codemirror_mode": {
        "name": "ipython",
        "version": 3
      },
      "file_extension": ".py",
      "mimetype": "text/x-python",
      "name": "python",
      "nbconvert_exporter": "python",
      "pygments_lexer": "ipython3",
      "version": "3.13.8"
    }
  },
  "nbformat": 4,
  "nbformat_minor": 0
}