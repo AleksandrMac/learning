{
  "cells": [
    {
      "cell_type": "markdown",
      "metadata": {},
      "source": [
        "# Задача 1. Обнаружение фальшивых новостей\n",
        "\n",
        "**Фальшивые новости** — это ложная информация, распространяемая через социальные сети и другие сетевые СМИ для достижения политических или идеологических целей.\n",
        "\n",
        "**Твоя  задача** -  используя библиотеку *sklearn* построить модель классического машинного обучения, которая может с высокой точностью более 90% определять, является ли новость реальной (***REAL***） или фальшивой（***FAKE***).\n",
        "\n",
        "Ты должен самостоятельно изучить и применить к задаче <code>TfidfVectorizer</code> для извлечения признаков из текстовых данных и <code>PassiveAggressiveClassifier</code>.\n",
        "\n",
        "Ты  можешь использовать [данный датасет](https://storage.yandexcloud.net/academy.ai/practica/fake_news.csv) для обучения.\n",
        "\n",
        "- **Построй** матрицу ошибок (confusion matrix). \n",
        "- **Представь**, что ваш заказчик очень любит графики и диаграммы. \n",
        "- **Визуализируй** для него результаты там, где это возможно."
      ]
    }
  ],
  "metadata": {
    "colab": {
      "include_colab_link": true,
      "provenance": []
    },
    "kernelspec": {
      "display_name": ".tf-gpu.3.13",
      "language": "python",
      "name": "python3"
    },
    "language_info": {
      "codemirror_mode": {
        "name": "ipython",
        "version": 3
      },
      "file_extension": ".py",
      "mimetype": "text/x-python",
      "name": "python",
      "nbconvert_exporter": "python",
      "pygments_lexer": "ipython3",
      "version": "3.13.8"
    }
  },
  "nbformat": 4,
  "nbformat_minor": 0
}
